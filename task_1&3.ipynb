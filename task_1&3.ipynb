{
 "cells": [
  {
   "cell_type": "markdown",
   "metadata": {},
   "source": [
    "## Содержание\n",
    "- **[Задание 1](#Задание-1)**\n",
    "    - **[Загружаем данные](#Загружаем-данные)**\n",
    "    - **[Крутим данные](#Крутим-данные)**\n",
    "    - **[Предобработка данных](#Предобработка-данных)**\n",
    "    - **[Применение стат. тестов](#Применение-стат.-тестов)**\n",
    "    - **[Выводы](#Выводы)**\n",
    "- **[Задание 3](#Задание-3)**\n"
   ]
  },
  {
   "cell_type": "code",
   "execution_count": 44,
   "metadata": {},
   "outputs": [],
   "source": [
    "import pandas as pd\n",
    "import numpy as np\n",
    "import pingouin as pg\n",
    "\n",
    "import seaborn as sns\n",
    "import matplotlib.pyplot as plt\n",
    "\n",
    "import requests\n",
    "from urllib.parse import urlencode\n",
    "\n",
    "import warnings\n",
    "warnings.filterwarnings('ignore')\n",
    "\n",
    "sns.set(\n",
    "    font_scale=1,\n",
    "    style=\"whitegrid\",\n",
    "    rc={'figure.figsize':(12,8)}\n",
    "        )"
   ]
  },
  {
   "cell_type": "markdown",
   "metadata": {},
   "source": [
    "## Задание 1\n",
    "Одной из основных задач аналитика в нашей команде является корректное проведение экспериментов. Для этого мы применяем метод A/B–тестирования. В ходе тестирования одной гипотезы целевой группе была предложена новая механика оплаты услуг на сайте, у контрольной группы оставалась базовая механика. В качестве задания Вам необходимо проанализировать итоги эксперимента и сделать вывод, стоит ли запускать новую механику оплаты на всех пользователей."
   ]
  },
  {
   "cell_type": "markdown",
   "metadata": {},
   "source": [
    "В качестве входных данных Вы имеете 4 csv-файла:\n",
    "\n",
    "* `groups.csv` - файл с информацией о принадлежности пользователя к контрольной или экспериментальной группе (А – контроль, B – целевая группа) \n",
    "* `groups_add.csv` - дополнительный файл с пользователями, который вам прислали спустя 2 дня после передачи данных\n",
    "* `active_studs.csv` - файл с информацией о пользователях, которые зашли на платформу в дни проведения эксперимента. \n",
    "* `checks.csv` - файл с информацией об оплатах пользователей в дни проведения эксперимента. "
   ]
  },
  {
   "cell_type": "markdown",
   "metadata": {},
   "source": [
    "Предлагаем Вам ответить на следующие вопросы:\n",
    "\n",
    "1. На какие метрики Вы смотрите в ходе анализа и почему?\n",
    "2. Имеются ли различия в показателях и с чем они могут быть связаны?\n",
    "3. Являются ли эти различия статистически значимыми?\n",
    "4. Стоит ли запускать новую механику на всех пользователей?\n",
    "5. Данный список вопросов не является обязательным, и Вы можете при своём ответе опираться на собственный план.\n",
    "\n",
    "При выполнении тестового задания необходимо использовать язык программирования Python. \n",
    "В файле обязательно должны быть комментарии к тем действиям, которые Вы выполняете с данными. \n",
    "Файл должен представлять собой законченный отчёт с выводами, сделанными в ходе исследования."
   ]
  },
  {
   "cell_type": "markdown",
   "metadata": {},
   "source": [
    "### Загружаем данные"
   ]
  },
  {
   "cell_type": "code",
   "execution_count": 45,
   "metadata": {},
   "outputs": [],
   "source": [
    "# Функция для считывания данных с Яндекс.Диска\n",
    "def get_data(df_url, sep=';'):\n",
    "    base_url = 'https://cloud-api.yandex.net/v1/disk/public/resources/download?'\n",
    "    \n",
    "    # Получаем загрузочную ссылку\n",
    "    final_url = base_url + urlencode(dict(public_key=df_url))\n",
    "    response = requests.get(final_url)\n",
    "    download_url = response.json()['href']\n",
    "\n",
    "    # Загружаем файл и сохраняем его\n",
    "    df = pd.read_csv(download_url, sep=sep)\n",
    "    \n",
    "    return df"
   ]
  },
  {
   "cell_type": "code",
   "execution_count": 46,
   "metadata": {},
   "outputs": [],
   "source": [
    "groups_url = 'https://disk.yandex.ru/d/58Us0DWOzuWAjg'\n",
    "group_add_url = 'https://disk.yandex.ru/d/3aARY-P9pfaksg'\n",
    "active_studs_url = 'https://disk.yandex.ru/d/prbgU-rZpiXVYg'\n",
    "checks_url = 'https://disk.yandex.ru/d/84hTmELphW2sqQ'"
   ]
  },
  {
   "cell_type": "code",
   "execution_count": 47,
   "metadata": {},
   "outputs": [],
   "source": [
    "# Считаем данные\n",
    "\n",
    "groups = get_data(groups_url)\n",
    "active_studs = get_data(active_studs_url)\n",
    "checks = get_data(checks_url)\n",
    "groups_add = get_data(group_add_url, sep=',')"
   ]
  },
  {
   "cell_type": "markdown",
   "metadata": {},
   "source": [
    "### Крутим данные"
   ]
  },
  {
   "cell_type": "code",
   "execution_count": 48,
   "metadata": {},
   "outputs": [],
   "source": [
    "# Напишем функцию для проверки данных\n",
    "\n",
    "def df_info(df):\n",
    "    '''Принимает датафрейм и возвращает количество строк и колонок в нем, типы данных, \n",
    "       название колонок с пропущенными значениями и их количество, а также колонки с дубликатами'''\n",
    "    \n",
    "    # Размер датафрейма\n",
    "    nrows = df.shape[0]\n",
    "    ncolumns = df.shape[1]\n",
    "    # Типы данных\n",
    "    d_types = df.dtypes\n",
    "    # Пропуски\n",
    "    df_nan = df.isna().sum()\n",
    "    \n",
    "    # Определяем колонки с дубликатами\n",
    "    columns_with_duplicates = []\n",
    "    cols = df.columns\n",
    "    for i in range(ncolumns):\n",
    "        if df.iloc[:, i].nunique() != nrows:\n",
    "            columns_with_duplicates.append(cols[i])\n",
    "        continue\n",
    "    \n",
    "    print(f'Количество строк: {nrows}', f'Количество столбцов: {ncolumns}', sep='\\n', end='\\n\\n')\n",
    "    print(f'Типы данных:', d_types, sep='\\n', end='\\n\\n')\n",
    "    print(f'Пропущенные значения:', df_nan, sep='\\n', end='\\n\\n')            \n",
    "    print(f'Колонки, в которых есть дубликаты: {columns_with_duplicates}')\n",
    "    \n",
    "    return df.sample(5)"
   ]
  },
  {
   "cell_type": "code",
   "execution_count": 49,
   "metadata": {},
   "outputs": [
    {
     "name": "stdout",
     "output_type": "stream",
     "text": [
      "Количество строк: 74484\n",
      "Количество столбцов: 2\n",
      "\n",
      "Типы данных:\n",
      "id      int64\n",
      "grp    object\n",
      "dtype: object\n",
      "\n",
      "Пропущенные значения:\n",
      "id     0\n",
      "grp    0\n",
      "dtype: int64\n",
      "\n",
      "Колонки, в которых есть дубликаты: ['grp']\n"
     ]
    },
    {
     "data": {
      "text/html": [
       "<div>\n",
       "<style scoped>\n",
       "    .dataframe tbody tr th:only-of-type {\n",
       "        vertical-align: middle;\n",
       "    }\n",
       "\n",
       "    .dataframe tbody tr th {\n",
       "        vertical-align: top;\n",
       "    }\n",
       "\n",
       "    .dataframe thead th {\n",
       "        text-align: right;\n",
       "    }\n",
       "</style>\n",
       "<table border=\"1\" class=\"dataframe\">\n",
       "  <thead>\n",
       "    <tr style=\"text-align: right;\">\n",
       "      <th></th>\n",
       "      <th>id</th>\n",
       "      <th>grp</th>\n",
       "    </tr>\n",
       "  </thead>\n",
       "  <tbody>\n",
       "    <tr>\n",
       "      <th>42713</th>\n",
       "      <td>1989549</td>\n",
       "      <td>B</td>\n",
       "    </tr>\n",
       "    <tr>\n",
       "      <th>49614</th>\n",
       "      <td>2696513</td>\n",
       "      <td>B</td>\n",
       "    </tr>\n",
       "    <tr>\n",
       "      <th>64333</th>\n",
       "      <td>4246332</td>\n",
       "      <td>B</td>\n",
       "    </tr>\n",
       "    <tr>\n",
       "      <th>56478</th>\n",
       "      <td>3361138</td>\n",
       "      <td>A</td>\n",
       "    </tr>\n",
       "    <tr>\n",
       "      <th>57710</th>\n",
       "      <td>3444349</td>\n",
       "      <td>B</td>\n",
       "    </tr>\n",
       "  </tbody>\n",
       "</table>\n",
       "</div>"
      ],
      "text/plain": [
       "            id grp\n",
       "42713  1989549   B\n",
       "49614  2696513   B\n",
       "64333  4246332   B\n",
       "56478  3361138   A\n",
       "57710  3444349   B"
      ]
     },
     "execution_count": 49,
     "metadata": {},
     "output_type": "execute_result"
    }
   ],
   "source": [
    "df_info(groups)"
   ]
  },
  {
   "cell_type": "code",
   "execution_count": 50,
   "metadata": {},
   "outputs": [
    {
     "name": "stdout",
     "output_type": "stream",
     "text": [
      "Количество строк: 92\n",
      "Количество столбцов: 2\n",
      "\n",
      "Типы данных:\n",
      "id      int64\n",
      "grp    object\n",
      "dtype: object\n",
      "\n",
      "Пропущенные значения:\n",
      "id     0\n",
      "grp    0\n",
      "dtype: int64\n",
      "\n",
      "Колонки, в которых есть дубликаты: ['grp']\n"
     ]
    },
    {
     "data": {
      "text/html": [
       "<div>\n",
       "<style scoped>\n",
       "    .dataframe tbody tr th:only-of-type {\n",
       "        vertical-align: middle;\n",
       "    }\n",
       "\n",
       "    .dataframe tbody tr th {\n",
       "        vertical-align: top;\n",
       "    }\n",
       "\n",
       "    .dataframe thead th {\n",
       "        text-align: right;\n",
       "    }\n",
       "</style>\n",
       "<table border=\"1\" class=\"dataframe\">\n",
       "  <thead>\n",
       "    <tr style=\"text-align: right;\">\n",
       "      <th></th>\n",
       "      <th>id</th>\n",
       "      <th>grp</th>\n",
       "    </tr>\n",
       "  </thead>\n",
       "  <tbody>\n",
       "    <tr>\n",
       "      <th>40</th>\n",
       "      <td>5723648</td>\n",
       "      <td>B</td>\n",
       "    </tr>\n",
       "    <tr>\n",
       "      <th>49</th>\n",
       "      <td>5730382</td>\n",
       "      <td>B</td>\n",
       "    </tr>\n",
       "    <tr>\n",
       "      <th>21</th>\n",
       "      <td>5710561</td>\n",
       "      <td>B</td>\n",
       "    </tr>\n",
       "    <tr>\n",
       "      <th>39</th>\n",
       "      <td>5723133</td>\n",
       "      <td>A</td>\n",
       "    </tr>\n",
       "    <tr>\n",
       "      <th>1</th>\n",
       "      <td>5694830</td>\n",
       "      <td>B</td>\n",
       "    </tr>\n",
       "  </tbody>\n",
       "</table>\n",
       "</div>"
      ],
      "text/plain": [
       "         id grp\n",
       "40  5723648   B\n",
       "49  5730382   B\n",
       "21  5710561   B\n",
       "39  5723133   A\n",
       "1   5694830   B"
      ]
     },
     "execution_count": 50,
     "metadata": {},
     "output_type": "execute_result"
    }
   ],
   "source": [
    "df_info(groups_add)"
   ]
  },
  {
   "cell_type": "code",
   "execution_count": 51,
   "metadata": {},
   "outputs": [
    {
     "name": "stdout",
     "output_type": "stream",
     "text": [
      "Количество строк: 8341\n",
      "Количество столбцов: 1\n",
      "\n",
      "Типы данных:\n",
      "student_id    int64\n",
      "dtype: object\n",
      "\n",
      "Пропущенные значения:\n",
      "student_id    0\n",
      "dtype: int64\n",
      "\n",
      "Колонки, в которых есть дубликаты: []\n"
     ]
    },
    {
     "data": {
      "text/html": [
       "<div>\n",
       "<style scoped>\n",
       "    .dataframe tbody tr th:only-of-type {\n",
       "        vertical-align: middle;\n",
       "    }\n",
       "\n",
       "    .dataframe tbody tr th {\n",
       "        vertical-align: top;\n",
       "    }\n",
       "\n",
       "    .dataframe thead th {\n",
       "        text-align: right;\n",
       "    }\n",
       "</style>\n",
       "<table border=\"1\" class=\"dataframe\">\n",
       "  <thead>\n",
       "    <tr style=\"text-align: right;\">\n",
       "      <th></th>\n",
       "      <th>student_id</th>\n",
       "    </tr>\n",
       "  </thead>\n",
       "  <tbody>\n",
       "    <tr>\n",
       "      <th>5120</th>\n",
       "      <td>3285762</td>\n",
       "    </tr>\n",
       "    <tr>\n",
       "      <th>1945</th>\n",
       "      <td>3512556</td>\n",
       "    </tr>\n",
       "    <tr>\n",
       "      <th>6126</th>\n",
       "      <td>1223576</td>\n",
       "    </tr>\n",
       "    <tr>\n",
       "      <th>1560</th>\n",
       "      <td>1799946</td>\n",
       "    </tr>\n",
       "    <tr>\n",
       "      <th>7606</th>\n",
       "      <td>3439821</td>\n",
       "    </tr>\n",
       "  </tbody>\n",
       "</table>\n",
       "</div>"
      ],
      "text/plain": [
       "      student_id\n",
       "5120     3285762\n",
       "1945     3512556\n",
       "6126     1223576\n",
       "1560     1799946\n",
       "7606     3439821"
      ]
     },
     "execution_count": 51,
     "metadata": {},
     "output_type": "execute_result"
    }
   ],
   "source": [
    "df_info(active_studs)"
   ]
  },
  {
   "cell_type": "code",
   "execution_count": 52,
   "metadata": {},
   "outputs": [
    {
     "name": "stdout",
     "output_type": "stream",
     "text": [
      "Количество строк: 541\n",
      "Количество столбцов: 2\n",
      "\n",
      "Типы данных:\n",
      "student_id      int64\n",
      "rev           float64\n",
      "dtype: object\n",
      "\n",
      "Пропущенные значения:\n",
      "student_id    0\n",
      "rev           0\n",
      "dtype: int64\n",
      "\n",
      "Колонки, в которых есть дубликаты: ['rev']\n"
     ]
    },
    {
     "data": {
      "text/html": [
       "<div>\n",
       "<style scoped>\n",
       "    .dataframe tbody tr th:only-of-type {\n",
       "        vertical-align: middle;\n",
       "    }\n",
       "\n",
       "    .dataframe tbody tr th {\n",
       "        vertical-align: top;\n",
       "    }\n",
       "\n",
       "    .dataframe thead th {\n",
       "        text-align: right;\n",
       "    }\n",
       "</style>\n",
       "<table border=\"1\" class=\"dataframe\">\n",
       "  <thead>\n",
       "    <tr style=\"text-align: right;\">\n",
       "      <th></th>\n",
       "      <th>student_id</th>\n",
       "      <th>rev</th>\n",
       "    </tr>\n",
       "  </thead>\n",
       "  <tbody>\n",
       "    <tr>\n",
       "      <th>185</th>\n",
       "      <td>1316069</td>\n",
       "      <td>1900.0</td>\n",
       "    </tr>\n",
       "    <tr>\n",
       "      <th>289</th>\n",
       "      <td>2896010</td>\n",
       "      <td>1900.0</td>\n",
       "    </tr>\n",
       "    <tr>\n",
       "      <th>10</th>\n",
       "      <td>150911</td>\n",
       "      <td>290.0</td>\n",
       "    </tr>\n",
       "    <tr>\n",
       "      <th>197</th>\n",
       "      <td>1445615</td>\n",
       "      <td>1140.0</td>\n",
       "    </tr>\n",
       "    <tr>\n",
       "      <th>1</th>\n",
       "      <td>3185</td>\n",
       "      <td>690.0</td>\n",
       "    </tr>\n",
       "  </tbody>\n",
       "</table>\n",
       "</div>"
      ],
      "text/plain": [
       "     student_id     rev\n",
       "185     1316069  1900.0\n",
       "289     2896010  1900.0\n",
       "10       150911   290.0\n",
       "197     1445615  1140.0\n",
       "1          3185   690.0"
      ]
     },
     "execution_count": 52,
     "metadata": {},
     "output_type": "execute_result"
    }
   ],
   "source": [
    "df_info(checks)"
   ]
  },
  {
   "cell_type": "code",
   "execution_count": 53,
   "metadata": {},
   "outputs": [
    {
     "data": {
      "text/plain": [
       "count     541.000000\n",
       "mean     1059.752317\n",
       "std       762.712359\n",
       "min       199.000000\n",
       "25%       290.000000\n",
       "50%       840.000000\n",
       "75%      1900.000000\n",
       "max      4650.000000\n",
       "Name: rev, dtype: float64"
      ]
     },
     "execution_count": 53,
     "metadata": {},
     "output_type": "execute_result"
    }
   ],
   "source": [
    "# Пока что ничего аномального в данных нет\n",
    "\n",
    "checks.rev.describe()"
   ]
  },
  {
   "cell_type": "markdown",
   "metadata": {},
   "source": [
    "### Предобработка данных"
   ]
  },
  {
   "cell_type": "code",
   "execution_count": 54,
   "metadata": {},
   "outputs": [],
   "source": [
    "# Объединим исходные данные по принадлежности пользователей с дополненными\n",
    "groups_full = pd.concat([groups, groups_add])\n",
    "\n",
    "# Переименуем колонки \n",
    "groups_full.rename(columns={'id': 'student_id'}, inplace=True)"
   ]
  },
  {
   "cell_type": "code",
   "execution_count": 55,
   "metadata": {},
   "outputs": [
    {
     "data": {
      "text/plain": [
       "0"
      ]
     },
     "execution_count": 55,
     "metadata": {},
     "output_type": "execute_result"
    }
   ],
   "source": [
    "# Дубликатов в студентах нет\n",
    "\n",
    "groups_full.student_id.duplicated().sum()"
   ]
  },
  {
   "cell_type": "code",
   "execution_count": 56,
   "metadata": {},
   "outputs": [
    {
     "data": {
      "text/plain": [
       "149"
      ]
     },
     "execution_count": 56,
     "metadata": {},
     "output_type": "execute_result"
    }
   ],
   "source": [
    "# Посмотрим, есть ли пользователи с оплатой, но не отмеченные как активные\n",
    "\n",
    "active_studs['act_flag'] = 1\n",
    "\n",
    "bug_users = checks.merge(active_studs, how='left', on='student_id').query('act_flag != 1')\n",
    "bug_users.shape[0]"
   ]
  },
  {
   "cell_type": "markdown",
   "metadata": {},
   "source": [
    "В датасете имеется 149 пользователей с оплатой, но не помеченные как активные. Я предполагаю, что это пользователи, у которых подключена автоматическая оплата, а в период проведения эксперимента они были неактивны\n",
    "\n",
    "Предполагаем, что если эти пользователи не пользовались сайтом в этот период, значит они не могли видеть и взаимодействовать с новой системой оплаты. \n",
    "\n",
    "Что мы с ними делаем? Т.к. мы исследуем влияние непосредственно системы оплаты на наших пользователей, исключим этих пользователей из эксперимента"
   ]
  },
  {
   "cell_type": "code",
   "execution_count": 57,
   "metadata": {},
   "outputs": [],
   "source": [
    "# Объединим данные и уберем неактивных пользователей с оплатой\n",
    "bugs_ids = bug_users.student_id.to_list()\n",
    "\n",
    "data = groups_full.merge(active_studs, how='left', on='student_id') \\\n",
    "                  .merge(checks, how='left', on='student_id') \\\n",
    "                  .query('student_id not in @bugs_ids') \\\n",
    "                  .fillna(0).reset_index()"
   ]
  },
  {
   "cell_type": "code",
   "execution_count": 58,
   "metadata": {},
   "outputs": [
    {
     "data": {
      "text/plain": [
       "B    59763\n",
       "A    14664\n",
       "Name: grp, dtype: int64"
      ]
     },
     "execution_count": 58,
     "metadata": {},
     "output_type": "execute_result"
    }
   ],
   "source": [
    "# Посмотрим на размер групп\n",
    "data.grp.value_counts()"
   ]
  },
  {
   "cell_type": "markdown",
   "metadata": {},
   "source": [
    "### Определяем ключевые метрики"
   ]
  },
  {
   "cell_type": "markdown",
   "metadata": {},
   "source": [
    "Исходя из наших данных можно выбрать несколько ключевых метрик:\n",
    "\n",
    "1. Метрики CR, которые могу нас интересовать:\n",
    "    * CR_au_total. Конверсия пользователя в активного. Предлагаю посмотреть на данную метрику в качестве оценки системы сплитования. Если CR примерно одинаковый, мы можем косвенно подтвердить нормальную работу системы сплитования\n",
    "    * CR_au_buy. Конверсия активного пользователя в покупку\n",
    "2. Метрики среднего чека по следующим группам пользователей:\n",
    "    * ARPU - средний чек на пользователя\n",
    "    * ARPAU - средний чек на активного пользователя\n",
    "    * ARPPU - средний чек на платящего пользователя\n",
    "\n",
    "Произведем расчет метрик"
   ]
  },
  {
   "cell_type": "code",
   "execution_count": 59,
   "metadata": {},
   "outputs": [
    {
     "data": {
      "text/html": [
       "<div>\n",
       "<style scoped>\n",
       "    .dataframe tbody tr th:only-of-type {\n",
       "        vertical-align: middle;\n",
       "    }\n",
       "\n",
       "    .dataframe tbody tr th {\n",
       "        vertical-align: top;\n",
       "    }\n",
       "\n",
       "    .dataframe thead th {\n",
       "        text-align: right;\n",
       "    }\n",
       "</style>\n",
       "<table border=\"1\" class=\"dataframe\">\n",
       "  <thead>\n",
       "    <tr style=\"text-align: right;\">\n",
       "      <th></th>\n",
       "      <th>grp</th>\n",
       "      <th>students</th>\n",
       "    </tr>\n",
       "  </thead>\n",
       "  <tbody>\n",
       "    <tr>\n",
       "      <th>0</th>\n",
       "      <td>A</td>\n",
       "      <td>14664</td>\n",
       "    </tr>\n",
       "    <tr>\n",
       "      <th>1</th>\n",
       "      <td>B</td>\n",
       "      <td>59763</td>\n",
       "    </tr>\n",
       "  </tbody>\n",
       "</table>\n",
       "</div>"
      ],
      "text/plain": [
       "  grp  students\n",
       "0   A     14664\n",
       "1   B     59763"
      ]
     },
     "execution_count": 59,
     "metadata": {},
     "output_type": "execute_result"
    }
   ],
   "source": [
    "# Количество пользователей в группах\n",
    "\n",
    "nstudents = data.groupby('grp', as_index=False) \\\n",
    "                .agg({'student_id': 'count'}) \\\n",
    "                .rename(columns={'student_id': 'students'})\n",
    "\n",
    "nstudents"
   ]
  },
  {
   "cell_type": "code",
   "execution_count": 60,
   "metadata": {},
   "outputs": [
    {
     "data": {
      "text/html": [
       "<div>\n",
       "<style scoped>\n",
       "    .dataframe tbody tr th:only-of-type {\n",
       "        vertical-align: middle;\n",
       "    }\n",
       "\n",
       "    .dataframe tbody tr th {\n",
       "        vertical-align: top;\n",
       "    }\n",
       "\n",
       "    .dataframe thead th {\n",
       "        text-align: right;\n",
       "    }\n",
       "</style>\n",
       "<table border=\"1\" class=\"dataframe\">\n",
       "  <thead>\n",
       "    <tr style=\"text-align: right;\">\n",
       "      <th></th>\n",
       "      <th>grp</th>\n",
       "      <th>active</th>\n",
       "    </tr>\n",
       "  </thead>\n",
       "  <tbody>\n",
       "    <tr>\n",
       "      <th>0</th>\n",
       "      <td>A</td>\n",
       "      <td>1538</td>\n",
       "    </tr>\n",
       "    <tr>\n",
       "      <th>1</th>\n",
       "      <td>B</td>\n",
       "      <td>6803</td>\n",
       "    </tr>\n",
       "  </tbody>\n",
       "</table>\n",
       "</div>"
      ],
      "text/plain": [
       "  grp  active\n",
       "0   A    1538\n",
       "1   B    6803"
      ]
     },
     "execution_count": 60,
     "metadata": {},
     "output_type": "execute_result"
    }
   ],
   "source": [
    "# Количество платящих пользователей в группах\n",
    "\n",
    "nactive = data[data.act_flag == 1].groupby('grp', as_index=False) \\\n",
    "                .agg({'student_id': 'count'}) \\\n",
    "                .rename(columns={'student_id': 'active'})\n",
    "\n",
    "nactive"
   ]
  },
  {
   "cell_type": "code",
   "execution_count": 61,
   "metadata": {},
   "outputs": [
    {
     "data": {
      "text/html": [
       "<div>\n",
       "<style scoped>\n",
       "    .dataframe tbody tr th:only-of-type {\n",
       "        vertical-align: middle;\n",
       "    }\n",
       "\n",
       "    .dataframe tbody tr th {\n",
       "        vertical-align: top;\n",
       "    }\n",
       "\n",
       "    .dataframe thead th {\n",
       "        text-align: right;\n",
       "    }\n",
       "</style>\n",
       "<table border=\"1\" class=\"dataframe\">\n",
       "  <thead>\n",
       "    <tr style=\"text-align: right;\">\n",
       "      <th></th>\n",
       "      <th>grp</th>\n",
       "      <th>customers</th>\n",
       "    </tr>\n",
       "  </thead>\n",
       "  <tbody>\n",
       "    <tr>\n",
       "      <th>0</th>\n",
       "      <td>A</td>\n",
       "      <td>78</td>\n",
       "    </tr>\n",
       "    <tr>\n",
       "      <th>1</th>\n",
       "      <td>B</td>\n",
       "      <td>314</td>\n",
       "    </tr>\n",
       "  </tbody>\n",
       "</table>\n",
       "</div>"
      ],
      "text/plain": [
       "  grp  customers\n",
       "0   A         78\n",
       "1   B        314"
      ]
     },
     "execution_count": 61,
     "metadata": {},
     "output_type": "execute_result"
    }
   ],
   "source": [
    "# Количество платящих пользователей в группах\n",
    "\n",
    "ncustomers = data[data.rev > 0].groupby('grp', as_index=False) \\\n",
    "                .agg({'student_id': 'count'}) \\\n",
    "                .rename(columns={'student_id': 'customers'})\n",
    "\n",
    "ncustomers"
   ]
  },
  {
   "cell_type": "code",
   "execution_count": 62,
   "metadata": {},
   "outputs": [
    {
     "data": {
      "text/html": [
       "<div>\n",
       "<style scoped>\n",
       "    .dataframe tbody tr th:only-of-type {\n",
       "        vertical-align: middle;\n",
       "    }\n",
       "\n",
       "    .dataframe tbody tr th {\n",
       "        vertical-align: top;\n",
       "    }\n",
       "\n",
       "    .dataframe thead th {\n",
       "        text-align: right;\n",
       "    }\n",
       "</style>\n",
       "<table border=\"1\" class=\"dataframe\">\n",
       "  <thead>\n",
       "    <tr style=\"text-align: right;\">\n",
       "      <th></th>\n",
       "      <th>grp</th>\n",
       "      <th>rev</th>\n",
       "    </tr>\n",
       "  </thead>\n",
       "  <tbody>\n",
       "    <tr>\n",
       "      <th>0</th>\n",
       "      <td>A</td>\n",
       "      <td>72820.0000</td>\n",
       "    </tr>\n",
       "    <tr>\n",
       "      <th>1</th>\n",
       "      <td>B</td>\n",
       "      <td>394974.0035</td>\n",
       "    </tr>\n",
       "  </tbody>\n",
       "</table>\n",
       "</div>"
      ],
      "text/plain": [
       "  grp          rev\n",
       "0   A   72820.0000\n",
       "1   B  394974.0035"
      ]
     },
     "execution_count": 62,
     "metadata": {},
     "output_type": "execute_result"
    }
   ],
   "source": [
    "# Суммарный доход по группам\n",
    "\n",
    "revenue = data.groupby('grp', as_index=False) \\\n",
    "              .agg({'rev': 'sum'})\n",
    "\n",
    "revenue"
   ]
  },
  {
   "cell_type": "code",
   "execution_count": 63,
   "metadata": {},
   "outputs": [],
   "source": [
    "# Объединяем\n",
    "\n",
    "metrics = nstudents.merge(nactive).merge(ncustomers).merge(revenue)"
   ]
  },
  {
   "cell_type": "code",
   "execution_count": 64,
   "metadata": {},
   "outputs": [],
   "source": [
    "# Считаем метрики\n",
    "\n",
    "metrics['CR_au_total'] = metrics.active.div(metrics.students)\n",
    "metrics['CR_au_buy'] = metrics.customers.div(metrics.active)\n",
    "\n",
    "metrics['ARPU'] = metrics.rev.div(metrics.students).round(2)\n",
    "metrics['ARPAU'] = metrics.rev.div(metrics.active).round(2)\n",
    "metrics['ARPPU'] = metrics.rev.div(metrics.customers).round(2)"
   ]
  },
  {
   "cell_type": "code",
   "execution_count": 65,
   "metadata": {},
   "outputs": [
    {
     "data": {
      "text/html": [
       "<div>\n",
       "<style scoped>\n",
       "    .dataframe tbody tr th:only-of-type {\n",
       "        vertical-align: middle;\n",
       "    }\n",
       "\n",
       "    .dataframe tbody tr th {\n",
       "        vertical-align: top;\n",
       "    }\n",
       "\n",
       "    .dataframe thead th {\n",
       "        text-align: right;\n",
       "    }\n",
       "</style>\n",
       "<table border=\"1\" class=\"dataframe\">\n",
       "  <thead>\n",
       "    <tr style=\"text-align: right;\">\n",
       "      <th></th>\n",
       "      <th>grp</th>\n",
       "      <th>students</th>\n",
       "      <th>active</th>\n",
       "      <th>customers</th>\n",
       "      <th>rev</th>\n",
       "      <th>CR_au_total</th>\n",
       "      <th>CR_au_buy</th>\n",
       "      <th>ARPU</th>\n",
       "      <th>ARPAU</th>\n",
       "      <th>ARPPU</th>\n",
       "    </tr>\n",
       "  </thead>\n",
       "  <tbody>\n",
       "    <tr>\n",
       "      <th>0</th>\n",
       "      <td>A</td>\n",
       "      <td>14664</td>\n",
       "      <td>1538</td>\n",
       "      <td>78</td>\n",
       "      <td>72820.0000</td>\n",
       "      <td>0.104883</td>\n",
       "      <td>0.050715</td>\n",
       "      <td>4.97</td>\n",
       "      <td>47.35</td>\n",
       "      <td>933.59</td>\n",
       "    </tr>\n",
       "    <tr>\n",
       "      <th>1</th>\n",
       "      <td>B</td>\n",
       "      <td>59763</td>\n",
       "      <td>6803</td>\n",
       "      <td>314</td>\n",
       "      <td>394974.0035</td>\n",
       "      <td>0.113833</td>\n",
       "      <td>0.046156</td>\n",
       "      <td>6.61</td>\n",
       "      <td>58.06</td>\n",
       "      <td>1257.88</td>\n",
       "    </tr>\n",
       "  </tbody>\n",
       "</table>\n",
       "</div>"
      ],
      "text/plain": [
       "  grp  students  active  customers          rev  CR_au_total  CR_au_buy  ARPU  \\\n",
       "0   A     14664    1538         78   72820.0000     0.104883   0.050715  4.97   \n",
       "1   B     59763    6803        314  394974.0035     0.113833   0.046156  6.61   \n",
       "\n",
       "   ARPAU    ARPPU  \n",
       "0  47.35   933.59  \n",
       "1  58.06  1257.88  "
      ]
     },
     "execution_count": 65,
     "metadata": {},
     "output_type": "execute_result"
    }
   ],
   "source": [
    "metrics"
   ]
  },
  {
   "cell_type": "code",
   "execution_count": 66,
   "metadata": {},
   "outputs": [],
   "source": [
    "# Преобразуем наш дф с метриками\n",
    "\n",
    "metrics_new = metrics.copy().set_index('grp').unstack().to_frame().reset_index() \\\n",
    "                     .rename(columns={'level_0': 'metric', 0: 'value'}) \\\n",
    "                     .pivot(index='metric', columns='grp', values='value')\n",
    "\n",
    "\n",
    "metrics_new['diff_%'] = (-(1 - metrics_new.iloc[0:5]['B'].div(metrics_new.iloc[0:5]['A']))).mul(100).round(2)"
   ]
  },
  {
   "cell_type": "code",
   "execution_count": 67,
   "metadata": {},
   "outputs": [
    {
     "data": {
      "text/html": [
       "<div>\n",
       "<style scoped>\n",
       "    .dataframe tbody tr th:only-of-type {\n",
       "        vertical-align: middle;\n",
       "    }\n",
       "\n",
       "    .dataframe tbody tr th {\n",
       "        vertical-align: top;\n",
       "    }\n",
       "\n",
       "    .dataframe thead th {\n",
       "        text-align: right;\n",
       "    }\n",
       "</style>\n",
       "<table border=\"1\" class=\"dataframe\">\n",
       "  <thead>\n",
       "    <tr style=\"text-align: right;\">\n",
       "      <th>grp</th>\n",
       "      <th>A</th>\n",
       "      <th>B</th>\n",
       "      <th>diff_%</th>\n",
       "    </tr>\n",
       "    <tr>\n",
       "      <th>metric</th>\n",
       "      <th></th>\n",
       "      <th></th>\n",
       "      <th></th>\n",
       "    </tr>\n",
       "  </thead>\n",
       "  <tbody>\n",
       "    <tr>\n",
       "      <th>ARPAU</th>\n",
       "      <td>47.350000</td>\n",
       "      <td>58.060000</td>\n",
       "      <td>22.62</td>\n",
       "    </tr>\n",
       "    <tr>\n",
       "      <th>ARPPU</th>\n",
       "      <td>933.590000</td>\n",
       "      <td>1257.880000</td>\n",
       "      <td>34.74</td>\n",
       "    </tr>\n",
       "    <tr>\n",
       "      <th>ARPU</th>\n",
       "      <td>4.970000</td>\n",
       "      <td>6.610000</td>\n",
       "      <td>33.00</td>\n",
       "    </tr>\n",
       "    <tr>\n",
       "      <th>CR_au_buy</th>\n",
       "      <td>0.050715</td>\n",
       "      <td>0.046156</td>\n",
       "      <td>-8.99</td>\n",
       "    </tr>\n",
       "    <tr>\n",
       "      <th>CR_au_total</th>\n",
       "      <td>0.104883</td>\n",
       "      <td>0.113833</td>\n",
       "      <td>8.53</td>\n",
       "    </tr>\n",
       "    <tr>\n",
       "      <th>active</th>\n",
       "      <td>1538.000000</td>\n",
       "      <td>6803.000000</td>\n",
       "      <td>NaN</td>\n",
       "    </tr>\n",
       "    <tr>\n",
       "      <th>customers</th>\n",
       "      <td>78.000000</td>\n",
       "      <td>314.000000</td>\n",
       "      <td>NaN</td>\n",
       "    </tr>\n",
       "    <tr>\n",
       "      <th>rev</th>\n",
       "      <td>72820.000000</td>\n",
       "      <td>394974.003500</td>\n",
       "      <td>NaN</td>\n",
       "    </tr>\n",
       "    <tr>\n",
       "      <th>students</th>\n",
       "      <td>14664.000000</td>\n",
       "      <td>59763.000000</td>\n",
       "      <td>NaN</td>\n",
       "    </tr>\n",
       "  </tbody>\n",
       "</table>\n",
       "</div>"
      ],
      "text/plain": [
       "grp                     A              B  diff_%\n",
       "metric                                          \n",
       "ARPAU           47.350000      58.060000   22.62\n",
       "ARPPU          933.590000    1257.880000   34.74\n",
       "ARPU             4.970000       6.610000   33.00\n",
       "CR_au_buy        0.050715       0.046156   -8.99\n",
       "CR_au_total      0.104883       0.113833    8.53\n",
       "active        1538.000000    6803.000000     NaN\n",
       "customers       78.000000     314.000000     NaN\n",
       "rev          72820.000000  394974.003500     NaN\n",
       "students     14664.000000   59763.000000     NaN"
      ]
     },
     "execution_count": 67,
     "metadata": {},
     "output_type": "execute_result"
    }
   ],
   "source": [
    "metrics_new"
   ]
  },
  {
   "cell_type": "markdown",
   "metadata": {},
   "source": [
    "Протеворечивая ситуация - после ввода новой системы оплаты мы получили снижение конверсии активных пользователей в покупку, но ARPU, ARPAU и ARPPU выросли\n",
    "\n",
    "Т.к. мы измереям эффект от взаимодействия пользователя с новый системой олатой, предлагаю смотреть выявлять статистическйю значимость по метрикам ARPPU и CR_au_buy. Так. мы будем измерять эффект непосредственно у тех пользователей, которые видели систему оплаты"
   ]
  },
  {
   "cell_type": "markdown",
   "metadata": {},
   "source": [
    "### Применение стат. тестов"
   ]
  },
  {
   "cell_type": "code",
   "execution_count": 68,
   "metadata": {},
   "outputs": [],
   "source": [
    "# Посмотрим на данные\n",
    "\n",
    "control = data.query('grp == \"A\" and rev > 0')\n",
    "test    = data.query('grp == \"B\" and rev > 0')"
   ]
  },
  {
   "cell_type": "code",
   "execution_count": 69,
   "metadata": {},
   "outputs": [
    {
     "data": {
      "text/plain": [
       "<AxesSubplot:xlabel='rev', ylabel='Count'>"
      ]
     },
     "execution_count": 69,
     "metadata": {},
     "output_type": "execute_result"
    },
    {
     "data": {
      "image/png": "[encoded data removed]",
      "text/plain": [
       "<Figure size 432x288 with 1 Axes>"
      ]
     },
     "metadata": {
      "needs_background": "light"
     },
     "output_type": "display_data"
    }
   ],
   "source": [
    "# Распределение явно отличается от нормального. Скошено вправо, что характерно для распределения суммы покупок\n",
    "\n",
    "sns.histplot(data = data[data.rev > 0], \n",
    "              x='rev', \n",
    "              hue='grp', \n",
    "              palette = ['r', 'b'],\n",
    "              alpha=0.6)"
   ]
  },
  {
   "cell_type": "markdown",
   "metadata": {},
   "source": [
    "Также в тестовой группе наблюдается ярко выраженное пиковое значение суммы покупок в ройоне 1900, что существенно отличает анализируемые распределения. \n",
    "Тяжело сказать что-то опричинах такого пика, т.к. в подробностях ничего неизвестно о новой механике оплаты, как и о платящей аудитории. \n",
    "Возможно, это как раз связано с особенностями новой механики оплаты - были предложены дополнительные бонусы при оплате на определенную сумму.\n",
    "Также возможен вариант неидеальной работы системы сплитования, когда в тестовую группу попала большая доля пользователей, заинтересованная в приобритении какого-то курса стоимостью 1900\n",
    "\n",
    "Сложно сказать, никакого контекста относительно проводимого эсксперимента не приведено"
   ]
  },
  {
   "cell_type": "code",
   "execution_count": 70,
   "metadata": {},
   "outputs": [
    {
     "data": {
      "text/plain": [
       "<AxesSubplot:xlabel='grp', ylabel='rev'>"
      ]
     },
     "execution_count": 70,
     "metadata": {},
     "output_type": "execute_result"
    },
    {
     "data": {
      "image/png": "[encoded data removed]",
      "text/plain": [
       "<Figure size 432x288 with 1 Axes>"
      ]
     },
     "metadata": {
      "needs_background": "light"
     },
     "output_type": "display_data"
    }
   ],
   "source": [
    "# Боксплот подтверждает наши расчеты о наличии прироста ARPPU в тестовой группе\n",
    "# Есть выбросы, но их трудно так классфицировать. Скорее это более обеспеченные или усердные студеты\n",
    "\n",
    "sns.boxplot(data=data[data.rev > 0], x='grp', y='rev')"
   ]
  },
  {
   "cell_type": "markdown",
   "metadata": {},
   "source": [
    "Т.к. распределения в выборках не являются нормальными + у нас значительные различия по размеру групп, для определения стат.значимости ARPPU воспользуемся бутстрапом\n",
    "\n",
    "**H0:** ARPPU в контрольной группе равен ARPPU в тестовой\n",
    "\n",
    "**H1:** ARPPU в контрольной и тестовой группах различается"
   ]
  },
  {
   "cell_type": "code",
   "execution_count": 71,
   "metadata": {},
   "outputs": [],
   "source": [
    "from bootstrap import get_bootstrap"
   ]
  },
  {
   "cell_type": "code",
   "execution_count": 72,
   "metadata": {},
   "outputs": [
    {
     "name": "stderr",
     "output_type": "stream",
     "text": [
      "100%|██████████| 5000/5000 [00:00<00:00, 7290.02it/s]\n"
     ]
    },
    {
     "data": {
      "image/png": "[encoded data removed]",
      "text/plain": [
       "<Figure size 432x288 with 1 Axes>"
      ]
     },
     "metadata": {
      "needs_background": "light"
     },
     "output_type": "display_data"
    }
   ],
   "source": [
    "bs_mean = get_bootstrap(test.rev, control.rev, statistic=np.mean, boot_it=5000)"
   ]
  },
  {
   "cell_type": "code",
   "execution_count": 73,
   "metadata": {},
   "outputs": [
    {
     "data": {
      "text/plain": [
       "1.79494880565634e-06"
      ]
     },
     "execution_count": 73,
     "metadata": {},
     "output_type": "execute_result"
    }
   ],
   "source": [
    "bs_mean['p_value_norm'] # распределение разниц нормально. используем вариант расчета p-value через normal.cdf"
   ]
  },
  {
   "cell_type": "code",
   "execution_count": 74,
   "metadata": {},
   "outputs": [
    {
     "data": {
      "text/html": [
       "<div>\n",
       "<style scoped>\n",
       "    .dataframe tbody tr th:only-of-type {\n",
       "        vertical-align: middle;\n",
       "    }\n",
       "\n",
       "    .dataframe tbody tr th {\n",
       "        vertical-align: top;\n",
       "    }\n",
       "\n",
       "    .dataframe thead th {\n",
       "        text-align: right;\n",
       "    }\n",
       "</style>\n",
       "<table border=\"1\" class=\"dataframe\">\n",
       "  <thead>\n",
       "    <tr style=\"text-align: right;\">\n",
       "      <th></th>\n",
       "      <th>0</th>\n",
       "    </tr>\n",
       "  </thead>\n",
       "  <tbody>\n",
       "    <tr>\n",
       "      <th>0.025</th>\n",
       "      <td>193.677160</td>\n",
       "    </tr>\n",
       "    <tr>\n",
       "      <th>0.975</th>\n",
       "      <td>457.736715</td>\n",
       "    </tr>\n",
       "  </tbody>\n",
       "</table>\n",
       "</div>"
      ],
      "text/plain": [
       "                0\n",
       "0.025  193.677160\n",
       "0.975  457.736715"
      ]
     },
     "execution_count": 74,
     "metadata": {},
     "output_type": "execute_result"
    }
   ],
   "source": [
    "bs_mean['ci']"
   ]
  },
  {
   "cell_type": "markdown",
   "metadata": {},
   "source": [
    "p-value < 0.05, ARPPU стат. значимо вырос"
   ]
  },
  {
   "cell_type": "markdown",
   "metadata": {},
   "source": [
    "Для определения стат. значимости снижения CR_au_buy конверсии активного студента в платящего воспользуемся критерием хи-квадрат, т.к. имеем категориальные данные\n",
    "\n",
    "**H0:** Взаимосвязь между системой оплаты и конверсией отсутствует\n",
    "\n",
    "**H1:** Взаимосвязь между системой оплаты и конверсией есть"
   ]
  },
  {
   "cell_type": "code",
   "execution_count": 75,
   "metadata": {},
   "outputs": [],
   "source": [
    "# Добавим колонку со статусом покупки\n",
    "\n",
    "data['pay'] = data.rev > 0"
   ]
  },
  {
   "cell_type": "code",
   "execution_count": 76,
   "metadata": {},
   "outputs": [],
   "source": [
    "expected, observed, stats = pg.chi2_independence(data[data.act_flag == 1], x='grp', y='pay', correction=False)"
   ]
  },
  {
   "cell_type": "code",
   "execution_count": 77,
   "metadata": {},
   "outputs": [
    {
     "data": {
      "text/html": [
       "<div>\n",
       "<style scoped>\n",
       "    .dataframe tbody tr th:only-of-type {\n",
       "        vertical-align: middle;\n",
       "    }\n",
       "\n",
       "    .dataframe tbody tr th {\n",
       "        vertical-align: top;\n",
       "    }\n",
       "\n",
       "    .dataframe thead th {\n",
       "        text-align: right;\n",
       "    }\n",
       "</style>\n",
       "<table border=\"1\" class=\"dataframe\">\n",
       "  <thead>\n",
       "    <tr style=\"text-align: right;\">\n",
       "      <th>pay</th>\n",
       "      <th>False</th>\n",
       "      <th>True</th>\n",
       "    </tr>\n",
       "    <tr>\n",
       "      <th>grp</th>\n",
       "      <th></th>\n",
       "      <th></th>\n",
       "    </tr>\n",
       "  </thead>\n",
       "  <tbody>\n",
       "    <tr>\n",
       "      <th>A</th>\n",
       "      <td>1460</td>\n",
       "      <td>78</td>\n",
       "    </tr>\n",
       "    <tr>\n",
       "      <th>B</th>\n",
       "      <td>6489</td>\n",
       "      <td>314</td>\n",
       "    </tr>\n",
       "  </tbody>\n",
       "</table>\n",
       "</div>"
      ],
      "text/plain": [
       "pay  False  True\n",
       "grp             \n",
       "A     1460    78\n",
       "B     6489   314"
      ]
     },
     "execution_count": 77,
     "metadata": {},
     "output_type": "execute_result"
    }
   ],
   "source": [
    "observed"
   ]
  },
  {
   "cell_type": "code",
   "execution_count": 78,
   "metadata": {},
   "outputs": [
    {
     "data": {
      "text/html": [
       "<div>\n",
       "<style scoped>\n",
       "    .dataframe tbody tr th:only-of-type {\n",
       "        vertical-align: middle;\n",
       "    }\n",
       "\n",
       "    .dataframe tbody tr th {\n",
       "        vertical-align: top;\n",
       "    }\n",
       "\n",
       "    .dataframe thead th {\n",
       "        text-align: right;\n",
       "    }\n",
       "</style>\n",
       "<table border=\"1\" class=\"dataframe\">\n",
       "  <thead>\n",
       "    <tr style=\"text-align: right;\">\n",
       "      <th></th>\n",
       "      <th>test</th>\n",
       "      <th>lambda</th>\n",
       "      <th>chi2</th>\n",
       "      <th>dof</th>\n",
       "      <th>pval</th>\n",
       "      <th>cramer</th>\n",
       "      <th>power</th>\n",
       "    </tr>\n",
       "  </thead>\n",
       "  <tbody>\n",
       "    <tr>\n",
       "      <th>0</th>\n",
       "      <td>pearson</td>\n",
       "      <td>1.000000</td>\n",
       "      <td>0.582151</td>\n",
       "      <td>1.0</td>\n",
       "      <td>0.445470</td>\n",
       "      <td>0.008354</td>\n",
       "      <td>0.118893</td>\n",
       "    </tr>\n",
       "    <tr>\n",
       "      <th>1</th>\n",
       "      <td>cressie-read</td>\n",
       "      <td>0.666667</td>\n",
       "      <td>0.578488</td>\n",
       "      <td>1.0</td>\n",
       "      <td>0.446905</td>\n",
       "      <td>0.008328</td>\n",
       "      <td>0.118449</td>\n",
       "    </tr>\n",
       "    <tr>\n",
       "      <th>2</th>\n",
       "      <td>log-likelihood</td>\n",
       "      <td>0.000000</td>\n",
       "      <td>0.571311</td>\n",
       "      <td>1.0</td>\n",
       "      <td>0.449738</td>\n",
       "      <td>0.008276</td>\n",
       "      <td>0.117579</td>\n",
       "    </tr>\n",
       "    <tr>\n",
       "      <th>3</th>\n",
       "      <td>freeman-tukey</td>\n",
       "      <td>-0.500000</td>\n",
       "      <td>0.566056</td>\n",
       "      <td>1.0</td>\n",
       "      <td>0.451830</td>\n",
       "      <td>0.008238</td>\n",
       "      <td>0.116942</td>\n",
       "    </tr>\n",
       "    <tr>\n",
       "      <th>4</th>\n",
       "      <td>mod-log-likelihood</td>\n",
       "      <td>-1.000000</td>\n",
       "      <td>0.560907</td>\n",
       "      <td>1.0</td>\n",
       "      <td>0.453895</td>\n",
       "      <td>0.008200</td>\n",
       "      <td>0.116318</td>\n",
       "    </tr>\n",
       "    <tr>\n",
       "      <th>5</th>\n",
       "      <td>neyman</td>\n",
       "      <td>-2.000000</td>\n",
       "      <td>0.550921</td>\n",
       "      <td>1.0</td>\n",
       "      <td>0.457942</td>\n",
       "      <td>0.008127</td>\n",
       "      <td>0.115109</td>\n",
       "    </tr>\n",
       "  </tbody>\n",
       "</table>\n",
       "</div>"
      ],
      "text/plain": [
       "                 test    lambda      chi2  dof      pval    cramer     power\n",
       "0             pearson  1.000000  0.582151  1.0  0.445470  0.008354  0.118893\n",
       "1        cressie-read  0.666667  0.578488  1.0  0.446905  0.008328  0.118449\n",
       "2      log-likelihood  0.000000  0.571311  1.0  0.449738  0.008276  0.117579\n",
       "3       freeman-tukey -0.500000  0.566056  1.0  0.451830  0.008238  0.116942\n",
       "4  mod-log-likelihood -1.000000  0.560907  1.0  0.453895  0.008200  0.116318\n",
       "5              neyman -2.000000  0.550921  1.0  0.457942  0.008127  0.115109"
      ]
     },
     "execution_count": 78,
     "metadata": {},
     "output_type": "execute_result"
    }
   ],
   "source": [
    "stats"
   ]
  },
  {
   "cell_type": "markdown",
   "metadata": {},
   "source": [
    "p-value > 0.05 => нет основания отклонить нулевую гипотезу."
   ]
  },
  {
   "cell_type": "markdown",
   "metadata": {},
   "source": [
    "### Выводы\n",
    "1. ARPPU в тестовой группе вырос на 34,7 %. Анализ методом бутстрапа показали статистически значимый прирост\n",
    "2. Конверсия снизилась на 9,0 %. Критерий хи-квадрат не показал, что падение конверсии статистически значимо\n",
    "3. На этапе проверки данных было выявлено 149 платящих пользователей, не отмеченных как активные. Они были классифицированы как пользователи с подключенными автоплатежами и удалены из эксперимента\n",
    "4. Т.к. ARPPU вырос, а конверсия снизилась незначительно, рекомендуется внедрять новую механику оплаты"
   ]
  },
  {
   "cell_type": "markdown",
   "metadata": {},
   "source": [
    "____________"
   ]
  },
  {
   "cell_type": "markdown",
   "metadata": {},
   "source": [
    "## Задание 3\n",
    "\n",
    "1. Реализуйте функцию, которая будет автоматически подгружать информацию из дополнительного файла `groups_add.csv` (заголовки могут отличаться) и на основании дополнительных параметров пересчитывать метрики.\n",
    "2. Реализуйте функцию, которая будет строить графики по получаемым метрикам."
   ]
  },
  {
   "cell_type": "code",
   "execution_count": 79,
   "metadata": {},
   "outputs": [],
   "source": [
    "def updade_data(groups_add, groups=groups, \n",
    "                active_studs=active_studs, checks=checks):\n",
    "    \n",
    "    '''Функция для автоматической подгрузки информации и расчета метрик. Приниммает: \n",
    "    groups_add - df с дополненными данными о принадлежности пользователей к группам ['student_id', 'group'],\n",
    "    groups - df с данными о принадлежности пользователей к группам ['student_id', 'group'],\n",
    "    active_studs - df с данными об активности пользователей ['student_id'],\n",
    "    checks - df с информацией об оплатах ['student_id', 'rev']'''\n",
    "    \n",
    "    # Подготовка данных\n",
    "    groups_add.rename(columns={groups_add.columns[0]: 'student_id', \n",
    "                               groups_add.columns[1]: 'grp'}, inplace=True)\n",
    "    groups.rename(columns={'id': 'student_id'}, inplace=True)\n",
    "    \n",
    "    # Собираем студентов вместе\n",
    "    groups_full = pd.concat([groups, groups_add])\n",
    "    \n",
    "    # Работа со студентами с подключенными автоплатежами\n",
    "    active_studs['act_flag'] = 1\n",
    "    bug_users = checks.merge(active_studs, how='left', on='student_id').query('act_flag != 1')\n",
    "    bugs_ids = bug_users.student_id.to_list()\n",
    "\n",
    "    \n",
    "    # Проверка на дубликаты\n",
    "    if groups_full.student_id.duplicated().sum() != 0:\n",
    "        print('Имеются дубликаты в группах. Требуется проверка')\n",
    "        \n",
    "    # Объединяем данные   \n",
    "    data = groups_full.merge(active_studs, how='left', on='student_id') \\\n",
    "                    .merge(checks, how='left', on='student_id') \\\n",
    "                    .query('student_id not in @bugs_ids') \\\n",
    "                    .fillna(0).reset_index()\n",
    "    \n",
    "    # Количество студентов в группах\n",
    "    nstudents = data.groupby('grp', as_index=False) \\\n",
    "                    .agg({'student_id': 'count'}) \\\n",
    "                    .rename(columns={'student_id': 'students'})\n",
    "\n",
    "    # Количество активных студентов в группах\n",
    "    nactive = data[data.act_flag == 1].groupby('grp', as_index=False) \\\n",
    "                                      .agg({'student_id': 'count'}) \\\n",
    "                                      .rename(columns={'student_id': 'active'})\n",
    "    \n",
    "    # Количество платящих студентов в группах\n",
    "    ncustomers = data[data.rev > 0].groupby('grp', as_index=False) \\\n",
    "                                   .agg({'student_id': 'count'}) \\\n",
    "                                   .rename(columns={'student_id': 'customers'})\n",
    "    \n",
    "    # Суммарный доход по группам\n",
    "    revenue = data.groupby('grp', as_index=False) \\\n",
    "                  .agg({'rev': 'sum'})\n",
    "    \n",
    "    # Считаем метрики\n",
    "    metrics = nstudents.merge(nactive).merge(ncustomers).merge(revenue)\n",
    "    \n",
    "    metrics['CR_au_total'] = metrics.active.div(metrics.students)\n",
    "    metrics['CR_au_buy'] = metrics.customers.div(metrics.active)\n",
    "\n",
    "    metrics['ARPU'] = metrics.rev.div(metrics.students).round(2)\n",
    "    metrics['ARPAU'] = metrics.rev.div(metrics.active).round(2)\n",
    "    metrics['ARPPU'] = metrics.rev.div(metrics.customers).round(2)\n",
    "\n",
    "    # Преобразуем наш дф с метриками\n",
    "\n",
    "    metrics = metrics.set_index('grp').unstack().to_frame().reset_index() \\\n",
    "                    .rename(columns={'level_0': 'metric',\n",
    "                            0: 'value'}) \\\n",
    "                    .pivot(index='metric', columns='grp', values='value')\n",
    "\n",
    "\n",
    "    metrics['diff_%'] = (-(1 - metrics.iloc[0:5]['B'].div(metrics.iloc[0:5]['A']))).mul(100).round(2)\n",
    "    \n",
    "    return metrics"
   ]
  },
  {
   "cell_type": "code",
   "execution_count": 80,
   "metadata": {},
   "outputs": [
    {
     "data": {
      "text/html": [
       "<div>\n",
       "<style scoped>\n",
       "    .dataframe tbody tr th:only-of-type {\n",
       "        vertical-align: middle;\n",
       "    }\n",
       "\n",
       "    .dataframe tbody tr th {\n",
       "        vertical-align: top;\n",
       "    }\n",
       "\n",
       "    .dataframe thead th {\n",
       "        text-align: right;\n",
       "    }\n",
       "</style>\n",
       "<table border=\"1\" class=\"dataframe\">\n",
       "  <thead>\n",
       "    <tr style=\"text-align: right;\">\n",
       "      <th>grp</th>\n",
       "      <th>A</th>\n",
       "      <th>B</th>\n",
       "      <th>diff_%</th>\n",
       "    </tr>\n",
       "    <tr>\n",
       "      <th>metric</th>\n",
       "      <th></th>\n",
       "      <th></th>\n",
       "      <th></th>\n",
       "    </tr>\n",
       "  </thead>\n",
       "  <tbody>\n",
       "    <tr>\n",
       "      <th>ARPAU</th>\n",
       "      <td>47.350000</td>\n",
       "      <td>58.060000</td>\n",
       "      <td>22.62</td>\n",
       "    </tr>\n",
       "    <tr>\n",
       "      <th>ARPPU</th>\n",
       "      <td>933.590000</td>\n",
       "      <td>1257.880000</td>\n",
       "      <td>34.74</td>\n",
       "    </tr>\n",
       "    <tr>\n",
       "      <th>ARPU</th>\n",
       "      <td>4.970000</td>\n",
       "      <td>6.610000</td>\n",
       "      <td>33.00</td>\n",
       "    </tr>\n",
       "    <tr>\n",
       "      <th>CR_au_buy</th>\n",
       "      <td>0.050715</td>\n",
       "      <td>0.046156</td>\n",
       "      <td>-8.99</td>\n",
       "    </tr>\n",
       "    <tr>\n",
       "      <th>CR_au_total</th>\n",
       "      <td>0.104883</td>\n",
       "      <td>0.113833</td>\n",
       "      <td>8.53</td>\n",
       "    </tr>\n",
       "    <tr>\n",
       "      <th>active</th>\n",
       "      <td>1538.000000</td>\n",
       "      <td>6803.000000</td>\n",
       "      <td>NaN</td>\n",
       "    </tr>\n",
       "    <tr>\n",
       "      <th>customers</th>\n",
       "      <td>78.000000</td>\n",
       "      <td>314.000000</td>\n",
       "      <td>NaN</td>\n",
       "    </tr>\n",
       "    <tr>\n",
       "      <th>rev</th>\n",
       "      <td>72820.000000</td>\n",
       "      <td>394974.003500</td>\n",
       "      <td>NaN</td>\n",
       "    </tr>\n",
       "    <tr>\n",
       "      <th>students</th>\n",
       "      <td>14664.000000</td>\n",
       "      <td>59763.000000</td>\n",
       "      <td>NaN</td>\n",
       "    </tr>\n",
       "  </tbody>\n",
       "</table>\n",
       "</div>"
      ],
      "text/plain": [
       "grp                     A              B  diff_%\n",
       "metric                                          \n",
       "ARPAU           47.350000      58.060000   22.62\n",
       "ARPPU          933.590000    1257.880000   34.74\n",
       "ARPU             4.970000       6.610000   33.00\n",
       "CR_au_buy        0.050715       0.046156   -8.99\n",
       "CR_au_total      0.104883       0.113833    8.53\n",
       "active        1538.000000    6803.000000     NaN\n",
       "customers       78.000000     314.000000     NaN\n",
       "rev          72820.000000  394974.003500     NaN\n",
       "students     14664.000000   59763.000000     NaN"
      ]
     },
     "execution_count": 80,
     "metadata": {},
     "output_type": "execute_result"
    }
   ],
   "source": [
    "updade_data(groups_add)"
   ]
  },
  {
   "cell_type": "code",
   "execution_count": 81,
   "metadata": {},
   "outputs": [],
   "source": [
    "def vizualization(metrics, data):\n",
    "    '''Функция для визуализации полученных метрик. Принимает:\n",
    "    metrics - таблица с метриками ['grp', 'students', 'customers', 'rev', 'cr', 'avg_check', 'ARPU'],\n",
    "    data - результирующая таблица с данными['student_id', 'act_flag', 'grp', 'rev']'''\n",
    "    \n",
    "    control_rev = data.query('grp == \"A\" & rev > 0').rev\n",
    "    test_rev    = data.query('grp == \"B\" & rev > 0').rev\n",
    "    \n",
    "    #  Графики распрделения сумм покупок по группам\n",
    "    fig, axes = plt.subplots(nrows=1, ncols=3, figsize=(20, 5))\n",
    "\n",
    "    sns.histplot(control_rev, ax=axes[0], color='red')\n",
    "    sns.histplot(test_rev, ax=axes[1], color='blue')\n",
    "    sns.boxplot(data=data[data.rev > 0], x='grp', y='rev')\n",
    "    axes[0].set(title='Revenue group A', xlabel='Expenses')\n",
    "    axes[1].set(title='Revenue group B', xlabel='Expenses')\n",
    "    axes[2].set(title='Revenue by groups', ylabel='Revenue', xlabel='Groups')\n",
    "    \n",
    "    # Графики метрик по группам\n",
    "    fig, axes = plt.subplots(nrows=1, ncols=3, figsize=(20, 5))\n",
    "    \n",
    "    metrics_list = ['ARPAU', 'CR_au_buy', 'ARPPU']\n",
    "    titles = ['ARPAU', 'Conversion to purchase', 'ARPPU']\n",
    "    for title, metric, ax in zip(titles, metrics_list, axes.flatten()): \n",
    "        sns.barplot(x='grp', y=metric, data=metrics, ax=ax)\n",
    "        ax.set(title=title, xlabel='Group', ylabel=None)\n",
    "    \n",
    "    plt.show()"
   ]
  },
  {
   "cell_type": "code",
   "execution_count": 82,
   "metadata": {},
   "outputs": [
    {
     "data": {
      "image/png": "[encoded data removed]",
      "text/plain": [
       "<Figure size 1440x360 with 3 Axes>"
      ]
     },
     "metadata": {},
     "output_type": "display_data"
    },
    {
     "data": {
      "image/png": "[encoded data removed]",
      "text/plain": [
       "<Figure size 1440x360 with 3 Axes>"
      ]
     },
     "metadata": {},
     "output_type": "display_data"
    }
   ],
   "source": [
    "vizualization(metrics, data)"
   ]
  },
  {
   "cell_type": "code",
   "execution_count": null,
   "metadata": {},
   "outputs": [],
   "source": []
  }
 ],
 "metadata": {
  "kernelspec": {
   "display_name": "Python 3.8.13 ('base')",
   "language": "python",
   "name": "python3"
  },
  "language_info": {
   "codemirror_mode": {
    "name": "ipython",
    "version": 3
   },
   "file_extension": ".py",
   "mimetype": "text/x-python",
   "name": "python",
   "nbconvert_exporter": "python",
   "pygments_lexer": "ipython3",
   "version": "3.8.13"
  },
  "vscode": {
   "interpreter": {
    "hash": "46e8f816e55d0ba56af21b24df2db25dbfd930f19711b388d671fd2bd1d16361"
   }
  }
 },
 "nbformat": 4,
 "nbformat_minor": 4
}
